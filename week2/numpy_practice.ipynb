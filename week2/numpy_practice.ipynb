{
 "cells": [
  {
   "cell_type": "markdown",
   "metadata": {
    "deletable": true,
    "editable": true
   },
   "source": [
    "# Numpy practice\n",
    "\n",
    "After going through the [Intro_to_numpy notebook](intro_to_numpy.ipynb) complete the exercises below.\n",
    "\n",
    "To help you out, here's an array of numpy methods often used in the DSI.\n",
    "\n",
    "```python\n",
    "import numpy as np\n",
    "\n",
    "lst = [4, 1, 2, 6, 5, 3]\n",
    "\n",
    "mtrx_A = [ [3, 2, 4],\n",
    "           [1, 9, 0],\n",
    "           [2, 8, 5] ]\n",
    "\n",
    "# make a numpy array\n",
    "a1 = np.array(lst) #convert a list to a numpy array\n",
    "a2 = np.arange(0,12,2) #usually used for integers\n",
    "a3 = np.linspace(1, 5, num=10, endpoint=True) # usually used for floats\n",
    "a4 = np.array(mtrx_A)\n",
    "\n",
    "# see the number of rows and columns in an array\n",
    "shape_a1 = a1.shape\n",
    "rows_a1 = a1.shape[0]\n",
    "cols_a1 = a1.shape[1] # will return an error\n",
    "\n",
    "# change the shape of an array\n",
    "a1 = a1[:,np.newaxis] # makes a1 a column vector\n",
    "cols_a1 = a1.shape[1] # now it does not throw an error, a1 has 1 column\n",
    "a1 = a1.reshape((-1,1)) # so does this, the -1 is telling numpy to figure out the number of rows\n",
    "a2.resize((3,2)) # does it inplace (note don't need a2 = a2.resize etc., asking for 2 columns\n",
    "\n",
    "# math functions \n",
    "m1 = a1.mean() # average of entire array\n",
    "m1_anotherway = np.mean(a1) # same\n",
    "m4 = a4.mean() # average of entire array\n",
    "m4_col_mn = a4.mean(axis = 0) # the average of each column\n",
    "m4_row_mn = a4.mean(axis = 1) # the average of each row\n",
    "m4_row_sum = a4.sum(axis = 1) # the sum of each row\n",
    "\n",
    "# sorting\n",
    "a1 = np.array(lst) #re-make array\n",
    "a1.sort() #will sort along the longest axis, note that this is done inplace (don't need a1 = a1.sort())\n",
    "a1 = a1[::-1] # reverse array order (high to low)\n",
    "a4.sort(axis = 0) # columns sorted in ascending order, inplace\n",
    "a4.sort(axis = 1) # rows sorted in ascending order, inplace\n",
    "\n",
    "# working with array indices\n",
    "cols = np.array(['A','B','C']) # column labels\n",
    "rows = np.array(['Zeroth','First','Second','Third']) # row labels\n",
    "mtrx_B = [ [3, -1, 0],\n",
    "           [1, 10, 2],\n",
    "           [4, -3, 9],\n",
    "           [9, 11, 1] ]\n",
    "indices_col_mins = np.argmin(mtrx_B, axis=0) # index of minimum value in each column\n",
    "indices_row_mins = np.argmin(mtrx_B, axis=1) # index of minimum value in each row\n",
    "(ind_row_min, ind_col_min) = np.where(mtrx_B == np.min(mtrx_B)) # find the row, column index of min. value\n",
    "# now use indices to return the row and column labels of the minimum\n",
    "print(\"The minimum occurs in the {0} row, {1} column.\".format(rows[i_row_min][0],cols[i_col_min][0]))\n",
    "\n",
    "```\n"
   ]
  },
  {
   "cell_type": "markdown",
   "metadata": {
    "collapsed": false,
    "deletable": true,
    "editable": true
   },
   "source": [
    "### Question 1\n",
    "\n",
    "Make the following matrices in numpy:\n",
    "\n",
    "```python\n",
    "arr1 = -0.2, 1.2, 3.4, 0.2\n",
    "\n",
    "arr2 = 5  2  -3  2  \n",
    "       0  3  12  3  \n",
    "       2  9  10  6\n",
    "```"
   ]
  },
  {
   "cell_type": "code",
   "execution_count": 9,
   "metadata": {
    "collapsed": false,
    "deletable": true,
    "editable": true
   },
   "outputs": [
    {
     "name": "stdout",
     "output_type": "stream",
     "text": [
      "[-0.2  1.2  3.4  0.2]\n",
      "[[ 5  2 -3  2]\n",
      " [ 0  3 12  3]\n",
      " [ 2  9 10  6]]\n"
     ]
    }
   ],
   "source": [
    "import numpy as np\n",
    "\n",
    "arr1 = np.array([-0.2, 1.2, 3.4, 0.2])\n",
    "arr2 = np.array([[5,2,-3,2],[0,3,12,3], [2,9,10,6]]) \n",
    "\n",
    "print(arr1)\n",
    "print(arr2)"
   ]
  },
  {
   "cell_type": "markdown",
   "metadata": {
    "collapsed": false,
    "deletable": true,
    "editable": true
   },
   "source": [
    "### Question 2\n",
    "\n",
    "a) Change each array into 1 row with as many columns as necessary.  \n",
    "b) Change each array into 1 column with as many rows as necessary.\n",
    "\n",
    "In each case save the reshaped array into a different variable name."
   ]
  },
  {
   "cell_type": "code",
   "execution_count": 17,
   "metadata": {
    "collapsed": false,
    "deletable": true,
    "editable": true
   },
   "outputs": [
    {
     "name": "stdout",
     "output_type": "stream",
     "text": [
      "(4,)\n",
      "(3, 4)\n",
      "[[-0.2  1.2  3.4  0.2]] (1, 4)\n",
      "[[ 5  2 -3  2  0  3 12  3  2  9 10  6]] (1, 12)\n"
     ]
    }
   ],
   "source": [
    "\n",
    "a1 = arr1.reshape((1,-1))\n",
    "print(a1, a1.shape)\n",
    "a2 = arr2.reshape((1,-1))\n",
    "print(a2, a2.shape)"
   ]
  },
  {
   "cell_type": "markdown",
   "metadata": {
    "deletable": true,
    "editable": true
   },
   "source": [
    "### Question 3\n",
    "\n",
    "Find the array min, max, the row min, max, and the column min, max for `arr1` and `arr2`."
   ]
  },
  {
   "cell_type": "code",
   "execution_count": 26,
   "metadata": {
    "collapsed": false,
    "deletable": true,
    "editable": true
   },
   "outputs": [
    {
     "name": "stdout",
     "output_type": "stream",
     "text": [
      "[-0.2  1.2  3.4  0.2]\n",
      "-0.2 3.4 -0.2 3.4\n",
      "[[ 5  2 -3  2]\n",
      " [ 0  3 12  3]\n",
      " [ 2  9 10  6]]\n",
      "-3 12 [-3  0  2] [ 5 12 10] [ 0  2 -3  2] [ 5  9 12  6]\n"
     ]
    }
   ],
   "source": [
    "a1min_t = arr1.min()\n",
    "a1max_t = arr1.max()\n",
    "#a1min_row = arr1.min(axis = 1) there is only one row\n",
    "#a1max_row = arr1.max(axis = 1) there is only one row\n",
    "a1min_col = arr1.min(axis = 0)\n",
    "a1max_col = arr1.max(axis = 0)\n",
    "print(arr1)\n",
    "print(a1min_t, a1max_t, a1min_col, a1max_col)\n",
    "\n",
    "a2min_t = arr2.min()\n",
    "a2max_t = arr2.max()\n",
    "a2min_row = arr2.min(axis = 1) \n",
    "a2max_row = arr2.max(axis = 1) \n",
    "a2min_col = arr2.min(axis = 0)\n",
    "a2max_col = arr2.max(axis = 0)\n",
    "print(arr2)\n",
    "print(a2min_t, a2max_t, a2min_row, a2max_row, a2min_col, a2max_col)\n"
   ]
  },
  {
   "cell_type": "markdown",
   "metadata": {
    "collapsed": false,
    "deletable": true,
    "editable": true
   },
   "source": [
    "### Question 4\n",
    "\n",
    "Return `arr1` and `arr2` sorted low to high, and high to low, row-wise and column-wise.  "
   ]
  },
  {
   "cell_type": "code",
   "execution_count": 56,
   "metadata": {
    "collapsed": false,
    "deletable": true,
    "editable": true
   },
   "outputs": [
    {
     "name": "stdout",
     "output_type": "stream",
     "text": [
      "[-0.2  1.2  3.4  0.2] \n",
      "\n",
      ".sort() is sorted on longest axis (col) \n",
      " [-0.2  0.2  1.2  3.4] \n",
      "\n",
      "reverse sort on longest axis (col) \n",
      " [ 3.4  1.2  0.2 -0.2] \n",
      "\n",
      "Can not sort on rows (only 1 row) \n",
      "\n",
      "[[ 5  2 -3  2]\n",
      " [ 0  3 12  3]\n",
      " [ 2  9 10  6]] \n",
      "\n",
      ".sort() is sorted on longest axis (rows) \n",
      " [[-3  2  2  5]\n",
      " [ 0  3  3 12]\n",
      " [ 2  6  9 10]] \n",
      "\n",
      "reverse sort on longest axis (rows) \n",
      " [[ 2  6  9 10]\n",
      " [ 0  3  3 12]\n",
      " [-3  2  2  5]] \n",
      "\n",
      "remake arr2 \n",
      " [[ 5  2 -3  2]\n",
      " [ 0  3 12  3]\n",
      " [ 2  9 10  6]] \n",
      "\n",
      "sort on column \n",
      " [[ 0  2 -3  2]\n",
      " [ 2  3 10  3]\n",
      " [ 5  9 12  6]] \n",
      "\n",
      "reverse sort on column \n",
      " [[ 5  9 12  6]\n",
      " [ 2  3 10  3]\n",
      " [ 0  2 -3  2]] \n",
      "\n"
     ]
    }
   ],
   "source": [
    "arr1=np.array([-0.2 ,1.2 ,3.4 ,0.2])\n",
    "print(arr1, '\\n')\n",
    "arr1.sort()\n",
    "print('sorted on longest axis (col)', '\\n',arr1, '\\n')\n",
    "arr1_h2l=arr1[::-1]\n",
    "print('reverse sort on longest axis (col)', '\\n',arr1_h2l, '\\n')\n",
    "print('Can not sort on rows (only 1 row)','\\n')\n",
    "\n",
    "\n",
    "arr2 = np.array([[5,2,-3,2],[0,3,12,3], [2,9,10,6]]) \n",
    "print(arr2, '\\n')\n",
    "\n",
    "arr2.sort()\n",
    "print('sorted on longest axis (rows)', '\\n',arr2,'\\n')\n",
    "\n",
    "arr2_h2l = arr2[::-1]\n",
    "print('reverse sort on longest axis (rows)', '\\n',arr2_h2l,'\\n')\n",
    "\n",
    "arr2 = np.array([[5,2,-3,2],[0,3,12,3], [2,9,10,6]]) \n",
    "print('remake arr2', '\\n', arr2, '\\n')\n",
    "\n",
    "arr2.sort(axis=0)\n",
    "print('sort on column', '\\n',arr2,'\\n')\n",
    "\n",
    "arr2_col_h2l = arr2[::-1]\n",
    "print('reverse sort on column', '\\n', arr2_col_h2l,'\\n')\n"
   ]
  },
  {
   "cell_type": "markdown",
   "metadata": {
    "deletable": true,
    "editable": true
   },
   "source": [
    "### Question 5\n",
    "\n",
    "Find the row and column of the maximum value `arr1` and `arr2`.  Print them out nicely."
   ]
  },
  {
   "cell_type": "code",
   "execution_count": 76,
   "metadata": {
    "collapsed": false,
    "deletable": true,
    "editable": true
   },
   "outputs": [
    {
     "name": "stdout",
     "output_type": "stream",
     "text": [
      "arr1 \n",
      " [-0.2  0.2  1.2  3.4] \n",
      "\n",
      "The minimum occurs in the 0th column of the single row in arr1. \n",
      "\n",
      "arr2 \n",
      " [[ 0  2 -3  2]\n",
      " [ 2  3 10  3]\n",
      " [ 5  9 12  6]] \n",
      "\n",
      "The minimum occurs in the 0th row, 2nd column in arr2. \n",
      "\n"
     ]
    }
   ],
   "source": [
    "cols = np.array(['0th','1st','2nd','3rd']) # column labels\n",
    "rows = np.array(['0th','1st','2nd','3rd']) # row labels\n",
    "(ind_col_min) = np.where(arr1 == np.min(arr1))\n",
    "\n",
    "print('arr1 \\n',arr1,'\\n')\n",
    "#print('arr2 min column index', ind_col_min[0], '\\n')\n",
    "print(\"The minimum occurs in the {} column of the single row in arr1. \\n\".format(cols[ind_col_min][0]))\n",
    "\n",
    "(ind2_row_min, ind2_col_min) = np.where(arr2 == np.min(arr2))\n",
    "print('arr2 \\n',arr2,'\\n')\n",
    "#print('arr2 min index', ind2_row_min, ind2_col_min, '\\n')\n",
    "print(\"The minimum occurs in the {} row, {} column in arr2. \\n\".format(rows[ind2_row_min][0],cols[ind2_col_min][0]))"
   ]
  },
  {
   "cell_type": "code",
   "execution_count": null,
   "metadata": {
    "collapsed": true
   },
   "outputs": [],
   "source": []
  }
 ],
 "metadata": {
  "kernelspec": {
   "display_name": "Python [conda env:py36]",
   "language": "python",
   "name": "conda-env-py36-py"
  },
  "language_info": {
   "codemirror_mode": {
    "name": "ipython",
    "version": 3
   },
   "file_extension": ".py",
   "mimetype": "text/x-python",
   "name": "python",
   "nbconvert_exporter": "python",
   "pygments_lexer": "ipython3",
   "version": "3.6.0"
  }
 },
 "nbformat": 4,
 "nbformat_minor": 0
}
