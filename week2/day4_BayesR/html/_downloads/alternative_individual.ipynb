{
 "cells": [
  {
   "cell_type": "markdown",
   "metadata": {},
   "source": [
    "## Goals of this assignment\n",
    "\n",
    "Everyone should do Part 0 and Part 1 of the assignment.  This is alternative to Part II.\n",
    "\n",
    "  * read/write CSV between as a way to communicate between R and Python\n",
    "  * get familiar with pwr \n",
    "\n",
    "1. Read in the MTCARS data into Python.\n",
    "2. Create a new column by converting mpg Miles/(US) gallon to liter/100 Kilometers\n",
    "3. Create a new column with 'high' and 'low' horse power splitting the data at the median\n",
    "4. Save the new data frame as a CSV\n",
    "\n",
    "**CREATE an Rscript and run the rest of the steps from the terminal**\n",
    "\n",
    "5. Load the CSV into R\n",
    "6. Run an ANOVA on the Horse Power groups wit MPG as the response variable http://www.stat.columbia.edu/~martin/W2024/R3.pdf\n",
    "7. from http://www.statmethods.net/stats/power.html go through each of the example boxes at the end of the page\n",
    "\n",
    "Some of the code below should help you get started"
   ]
  },
  {
   "cell_type": "code",
   "execution_count": null,
   "metadata": {
    "collapsed": false
   },
   "outputs": [],
   "source": [
    "%load_ext rpy2.ipython"
   ]
  },
  {
   "cell_type": "code",
   "execution_count": null,
   "metadata": {
    "collapsed": false
   },
   "outputs": [],
   "source": [
    "%%R\n",
    "library(lattice)\n",
    "\n",
    "# scatterplot matrix\n",
    "splom(mtcars[c(1,3,4,5,6)], main=\"MTCARS Data\")"
   ]
  },
  {
   "cell_type": "code",
   "execution_count": null,
   "metadata": {
    "collapsed": false
   },
   "outputs": [],
   "source": [
    "import pandas as pd\n",
    "import numpy as np\n",
    "import statsmodels.api as sm\n",
    "% matplotlib inline\n",
    "from pandas.tools.plotting import scatter_matrix\n",
    "\n",
    "mtcars2 = sm.datasets.get_rdataset('mtcars')\n",
    "df = pd.DataFrame(mtcars2.data)\n",
    "scatter_matrix(df[[0,2,3,4,5]], alpha=0.3, figsize=(8, 8), diagonal='kde', marker='o');"
   ]
  },
  {
   "cell_type": "code",
   "execution_count": null,
   "metadata": {
    "collapsed": true
   },
   "outputs": [],
   "source": []
  }
 ],
 "metadata": {
  "kernelspec": {
   "display_name": "Python 3",
   "language": "python",
   "name": "python3"
  },
  "language_info": {
   "codemirror_mode": {
    "name": "ipython",
    "version": 3
   },
   "file_extension": ".py",
   "mimetype": "text/x-python",
   "name": "python",
   "nbconvert_exporter": "python",
   "pygments_lexer": "ipython3",
   "version": "3.6.0"
  }
 },
 "nbformat": 4,
 "nbformat_minor": 1
}
