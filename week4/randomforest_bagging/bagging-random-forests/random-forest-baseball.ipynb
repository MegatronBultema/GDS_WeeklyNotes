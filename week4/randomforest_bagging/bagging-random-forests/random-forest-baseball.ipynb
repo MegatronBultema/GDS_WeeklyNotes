{
 "cells": [
  {
   "cell_type": "markdown",
   "metadata": {},
   "source": [
    "# Random Forest in Scikit-Learn\n",
    "\n",
    "In this notebook we will use the History of Baseball dataset to demonstrate model interpretation with Random Forest (http://www.seanlahman.com/baseball-archive/statistics/)"
   ]
  },
  {
   "cell_type": "code",
   "execution_count": 30,
   "metadata": {
    "collapsed": false,
    "deletable": true,
    "editable": true
   },
   "outputs": [],
   "source": [
    "# load in necessary packages\n",
    "\n",
    "import pandas as pd\n",
    "import numpy as np\n",
    "import matplotlib.pyplot as plt\n",
    "import matplotlib\n",
    "%matplotlib inline\n",
    "\n",
    "from sklearn.model_selection import train_test_split\n",
    "from sklearn.linear_model import LinearRegression\n",
    "from sklearn.ensemble import RandomForestRegressor\n",
    "from sklearn.metrics import mean_squared_error\n",
    "\n",
    "from preprocessing import teams_preprocess\n",
    "\n",
    "plt.style.use('ggplot')"
   ]
  },
  {
   "cell_type": "code",
   "execution_count": 31,
   "metadata": {
    "collapsed": false,
    "deletable": true,
    "editable": true
   },
   "outputs": [
    {
     "name": "stdout",
     "output_type": "stream",
     "text": [
      "<class 'pandas.core.frame.DataFrame'>\n",
      "Int64Index: 964 entries, 1813 to 2804\n",
      "Data columns (total 54 columns):\n",
      "yearid            964 non-null int64\n",
      "lgid              964 non-null object\n",
      "teamid            964 non-null object\n",
      "franchid          964 non-null object\n",
      "divid             964 non-null object\n",
      "rank              964 non-null int64\n",
      "g                 964 non-null int64\n",
      "ghome             964 non-null float64\n",
      "w                 964 non-null float64\n",
      "l                 964 non-null float64\n",
      "divwin            964 non-null object\n",
      "wcwin             624 non-null object\n",
      "lgwin             964 non-null object\n",
      "wswin             964 non-null object\n",
      "r                 964 non-null float64\n",
      "ab                964 non-null float64\n",
      "h                 964 non-null float64\n",
      "2b                964 non-null float64\n",
      "3b                964 non-null float64\n",
      "hr                964 non-null float64\n",
      "bb                964 non-null float64\n",
      "so                964 non-null float64\n",
      "sb                964 non-null float64\n",
      "cs                964 non-null float64\n",
      "hbp               480 non-null float64\n",
      "sf                480 non-null float64\n",
      "ra                964 non-null float64\n",
      "er                964 non-null int64\n",
      "era               964 non-null float64\n",
      "cg                964 non-null float64\n",
      "sho               964 non-null float64\n",
      "sv                964 non-null float64\n",
      "ipouts            964 non-null float64\n",
      "ha                964 non-null float64\n",
      "hra               964 non-null int64\n",
      "bba               964 non-null float64\n",
      "soa               964 non-null float64\n",
      "e                 964 non-null float64\n",
      "dp                964 non-null float64\n",
      "fp                964 non-null float64\n",
      "name              964 non-null object\n",
      "park              964 non-null object\n",
      "attendance        964 non-null float64\n",
      "bpf               964 non-null int64\n",
      "ppf               964 non-null int64\n",
      "teamidbr          964 non-null object\n",
      "teamidlahman45    964 non-null object\n",
      "teamidretro       964 non-null object\n",
      "1b                964 non-null float64\n",
      "ba                964 non-null float64\n",
      "obp               964 non-null float64\n",
      "sp                964 non-null float64\n",
      "ops               964 non-null float64\n",
      "Wins              964 non-null int64\n",
      "dtypes: float64(33), int64(8), object(13)\n",
      "memory usage: 414.2+ KB\n"
     ]
    }
   ],
   "source": [
    "# load in data and preprocess\n",
    "\n",
    "teams_df = pd.read_csv('data/Teams.csv')\n",
    "\n",
    "teams = teams_preprocess(teams_df)\n",
    "\n",
    "teams.info()"
   ]
  },
  {
   "cell_type": "code",
   "execution_count": 32,
   "metadata": {
    "collapsed": false,
    "deletable": true,
    "editable": true
   },
   "outputs": [
    {
     "name": "stdout",
     "output_type": "stream",
     "text": [
      "Index(['doubles', 'triples', 'hr', 'bb', 'so', 'sb', 'cg', 'ba', 'ha', 'bba',\n",
      "       'soa', 'e', 'era', 'obp', 'sp', 'ops', 'w'],\n",
      "      dtype='object')\n"
     ]
    }
   ],
   "source": [
    "# narrow down columns to consider for Random Forest model\n",
    "cols_for_regression = ['doubles', 'triples', 'hr', 'bb','so','sb', 'cg', 'ba',\n",
    "                        'ha', 'bba', 'soa', 'e', 'era', 'obp','sp','ops', 'w']\n",
    "\n",
    "# reformat some columns\n",
    "teams = teams.rename(index=str, columns={'1b':'singles', '2b':'doubles', '3b':'triples'})\n",
    "\n",
    "rteams = teams[cols_for_regression]\n",
    "\n",
    "print(rteams.columns)"
   ]
  },
  {
   "cell_type": "code",
   "execution_count": 33,
   "metadata": {
    "collapsed": false,
    "deletable": true,
    "editable": true
   },
   "outputs": [],
   "source": [
    "y = rteams.pop('w').values\n",
    "\n",
    "cols = rteams.columns.tolist()\n",
    "X = rteams.values\n",
    "\n",
    "X_train, X_test, y_train, y_test = train_test_split(X, y)"
   ]
  },
  {
   "cell_type": "markdown",
   "metadata": {},
   "source": [
    "## Feature Importances"
   ]
  },
  {
   "cell_type": "code",
   "execution_count": 34,
   "metadata": {
    "collapsed": false,
    "deletable": true,
    "editable": true
   },
   "outputs": [
    {
     "name": "stdout",
     "output_type": "stream",
     "text": [
      "('doubles', 0.0093547691042732955)\n",
      "('triples', 0.009282960254464085)\n",
      "('hr', 0.011453807061886206)\n",
      "('bb', 0.013097433316813449)\n",
      "('so', 0.010565141102773037)\n",
      "('sb', 0.01130248222741002)\n",
      "('cg', 0.0073080939374507185)\n",
      "('ba', 0.012083087569482081)\n",
      "('ha', 0.033715620404959852)\n",
      "('bba', 0.01759452013612909)\n",
      "('soa', 0.0099384341993858441)\n",
      "('e', 0.014698329805021273)\n",
      "('era', 0.39324894969375257)\n",
      "('obp', 0.067674181397098743)\n",
      "('sp', 0.047041466378951985)\n",
      "('ops', 0.33164072341014766)\n"
     ]
    }
   ],
   "source": [
    "rf = RandomForestRegressor(n_estimators=50)\n",
    "rf.fit(X_train, y_train)\n",
    "\n",
    "scores = rf.feature_importances_\n",
    "\n",
    "fi = zip(cols, scores)\n",
    "\n",
    "for feat in fi:\n",
    "    print(feat)"
   ]
  },
  {
   "cell_type": "code",
   "execution_count": 64,
   "metadata": {
    "collapsed": false,
    "deletable": true,
    "editable": true
   },
   "outputs": [
    {
     "data": {
      "image/png": "[encoded data removed]",
      "text/plain": [
       "<matplotlib.figure.Figure at 0x113e0cba8>"
      ]
     },
     "metadata": {},
     "output_type": "display_data"
    }
   ],
   "source": [
    "plt.bar(range(len(cols)), scores, );\n",
    "plt.xticks(range(len(cols)), cols, rotation='vertical');\n",
    "plt.title('Feature Importances');"
   ]
  },
  {
   "cell_type": "markdown",
   "metadata": {},
   "source": [
    "## Leave One Out "
   ]
  },
  {
   "cell_type": "code",
   "execution_count": 36,
   "metadata": {
    "collapsed": true,
    "deletable": true,
    "editable": true
   },
   "outputs": [],
   "source": [
    "def leave_one_out(df):\n",
    "    y = df.pop('w')\n",
    "    X = df\n",
    "    base_mod = RandomForestRegressor(n_estimators=50, oob_score=True).fit(X, y)\n",
    "    base_score = base_mod.oob_score_\n",
    "    cols = df.columns.tolist()\n",
    "    diff_from_base = []\n",
    "    for col in cols:\n",
    "        X = df\n",
    "        X = X.loc[:,[c for c in cols if c != col]]\n",
    "        rf = RandomForestRegressor(n_estimators=50, oob_score=True).fit(X, y)\n",
    "        diff_from_base.append(abs(base_score - rf.oob_score_))\n",
    "    return cols, diff_from_base\n",
    "\n"
   ]
  },
  {
   "cell_type": "code",
   "execution_count": 37,
   "metadata": {
    "collapsed": true
   },
   "outputs": [],
   "source": [
    "columns, loo_score = leave_one_out(teams[cols_for_regression])"
   ]
  },
  {
   "cell_type": "code",
   "execution_count": 65,
   "metadata": {
    "collapsed": false
   },
   "outputs": [
    {
     "data": {
      "image/png": "[encoded data removed]",
      "text/plain": [
       "<matplotlib.figure.Figure at 0x10ed02160>"
      ]
     },
     "metadata": {},
     "output_type": "display_data"
    }
   ],
   "source": [
    "plt.bar(range(len(columns)), loo_score);\n",
    "plt.xticks(range(len(columns)), columns, rotation='vertical');\n",
    "plt.title('Leave One Out');"
   ]
  },
  {
   "cell_type": "markdown",
   "metadata": {},
   "source": [
    "***Why is ERA so much more important here?***  One explanation is that most of the metrics we are looking at are offensive.  Therefore, there is quite a bit of information overlap on the offensive side of things.  Taking on offensive metric out will not have nearly as large of an impact as taking out ERA, since that information isn't captured in other metrics..."
   ]
  },
  {
   "cell_type": "markdown",
   "metadata": {},
   "source": [
    "## Identify \"Multicolinearity\"\n",
    "Here we aren't concerned about \"colinearity\" affecting our model, just the interpretation of it.  If two features contain very similar information, their feature importances will be negatively impacted.  Below, we will iteratively drop out columns and see how feature importances change.\n",
    "\n",
    "This allows us to get a better understanding for the importance each of our features adds to the model.  ***It is also possible to drop out more than one feature at a time.***"
   ]
  },
  {
   "cell_type": "code",
   "execution_count": 61,
   "metadata": {
    "collapsed": true
   },
   "outputs": [],
   "source": [
    "def leave_one_out_fi(df):\n",
    "    y = df.pop('w')\n",
    "    X = df\n",
    "    X_train, X_test, y_train, y_test = train_test_split(X, y)\n",
    "    cols = df.columns.tolist()\n",
    "    for col in cols:\n",
    "        cols_to_plot = [c for c in cols if c != col]\n",
    "        feats = X_train.loc[:, cols_to_plot]\n",
    "        rf = RandomForestRegressor(n_estimators=50).fit(feats, y_train)\n",
    "        scores = rf.feature_importances_\n",
    "        plt.bar(range(len(cols) - 1), scores)\n",
    "        plt.xticks(range(len(cols) - 1), cols_to_plot, rotation='vertical')\n",
    "        plt.subplots_adjust(bottom=0.25)\n",
    "        plt.savefig('images/left_out_{}.png'.format(col))\n",
    "        plt.close('all')\n",
    "        "
   ]
  },
  {
   "cell_type": "code",
   "execution_count": 62,
   "metadata": {
    "collapsed": false
   },
   "outputs": [],
   "source": [
    "leave_one_out_fi(teams[cols_for_regression])"
   ]
  },
  {
   "cell_type": "code",
   "execution_count": null,
   "metadata": {
    "collapsed": true
   },
   "outputs": [],
   "source": []
  }
 ],
 "metadata": {
  "kernelspec": {
   "display_name": "Python 3",
   "language": "python",
   "name": "python3"
  },
  "language_info": {
   "codemirror_mode": {
    "name": "ipython",
    "version": 3
   },
   "file_extension": ".py",
   "mimetype": "text/x-python",
   "name": "python",
   "nbconvert_exporter": "python",
   "pygments_lexer": "ipython3",
   "version": "3.6.0"
  }
 },
 "nbformat": 4,
 "nbformat_minor": 2
}
