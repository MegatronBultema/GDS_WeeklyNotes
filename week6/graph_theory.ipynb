{
 "cells": [
  {
   "cell_type": "code",
   "execution_count": 1,
   "metadata": {
    "collapsed": true
   },
   "outputs": [],
   "source": [
    "import re\n",
    "import networkx as nx\n",
    "from IPython.display import Image\n",
    "import matplotlib.pyplot as plt"
   ]
  },
  {
   "cell_type": "markdown",
   "metadata": {},
   "source": [
    "## Create a simple network"
   ]
  },
  {
   "cell_type": "code",
   "execution_count": 2,
   "metadata": {
    "collapsed": false
   },
   "outputs": [
    {
     "name": "stdout",
     "output_type": "stream",
     "text": [
      "['A', 'C', 'B', 'D']\n",
      "[('A', 'C'), ('A', 'B')]\n",
      "...removed D\n",
      "['A', 'C', 'B']\n",
      "[('A', 'C'), ('A', 'B')]\n"
     ]
    }
   ],
   "source": [
    "G=nx.Graph()\n",
    "G.add_node(\"D\")\n",
    "G.add_edge(\"A\",\"B\")\n",
    "G.add_edge(\"A\",\"C\")\n",
    "print(G.nodes())\n",
    "print(G.edges())\n",
    "G.remove_node(\"D\")\n",
    "print(\"...removed D\")\n",
    "print(G.nodes())\n",
    "print(G.edges())"
   ]
  },
  {
   "cell_type": "markdown",
   "metadata": {},
   "source": [
    "## Attributes and iterators"
   ]
  },
  {
   "cell_type": "code",
   "execution_count": 4,
   "metadata": {
    "collapsed": false
   },
   "outputs": [
    {
     "name": "stdout",
     "output_type": "stream",
     "text": [
      "12AM\n",
      "{'time': '12AM'}\n",
      "[]\n",
      "{'weight': 5.0}\n",
      "[(1, 2)]\n"
     ]
    }
   ],
   "source": [
    "## adding attributes associated with a node\n",
    "g=nx.Graph()\n",
    "g.add_node(1,time='12AM') \n",
    "print(g.node[1]['time'])\n",
    "print(g.node[1])\n",
    "print(g.edges())\n",
    "## adding attributes associated with an edge\n",
    "g.add_edge(1, 2, weight=4.0 ) \n",
    "g[1][2]['weight'] = 5.0 \n",
    "# edge already added \n",
    "print(g[1][2])\n",
    "print(g.edges())"
   ]
  },
  {
   "cell_type": "code",
   "execution_count": 4,
   "metadata": {
    "collapsed": false
   },
   "outputs": [
    {
     "name": "stdout",
     "output_type": "stream",
     "text": [
      "(1, 1)\n",
      "(2, 1)\n",
      "-----------\n",
      "(1, 2, 1.5)\n",
      "(1, 3, 2.5)\n"
     ]
    }
   ],
   "source": [
    "# iterate throuh an unweighted graph\n",
    "g=nx.Graph()\n",
    "g.add_edge(1,2)\n",
    "for node in g.nodes():\n",
    "    print(node, g.degree(node))\n",
    "\n",
    "print(\"-----------\")\n",
    "    \n",
    "# iterate throuh a weighted graph    \n",
    "g=nx.Graph()\n",
    "g.add_edge(1,2,weight=1.0)\n",
    "g.add_edge(1,3,weight=2.5)\n",
    "g[1][2]['weight'] = 1.5\n",
    "for n1,n2,attr in g.edges(data=True):\n",
    "    print(n1,n2,attr['weight'])"
   ]
  },
  {
   "cell_type": "markdown",
   "metadata": {},
   "source": [
    "## Here is a function to draw a network"
   ]
  },
  {
   "cell_type": "code",
   "execution_count": 6,
   "metadata": {
    "collapsed": true
   },
   "outputs": [],
   "source": [
    "def draw_network(edge_dict,file_name=None,ax=None,node_size=300):\n",
    "    \"\"\"draw a simple network\"\"\"\n",
    "    if not ax:\n",
    "        fig = plt.figure()\n",
    "        ax = fig.add_subplot(111)\n",
    "        ax.set_yticks([])\n",
    "        ax.set_xticks([])\n",
    "\n",
    "    G = nx.Graph()\n",
    "    for edge,weight in edge_dict.iteritems():\n",
    "        G.add_edge(edge[0],edge[1],weight=weight)\n",
    "\n",
    "    pos=nx.spring_layout(G)\n",
    "\n",
    "    ## draw the nodes                                                                                                          \n",
    "    nx.draw_networkx(G,pos,node_size=node_size,\n",
    "                     node_color='#ADD8E6',alpha=0.9,ax=ax)\n",
    "\n",
    "    if file_name:\n",
    "        plt.savefig(file_name)"
   ]
  },
  {
   "cell_type": "markdown",
   "metadata": {},
   "source": [
    "## Create a container for some node and edge information\n",
    "\n",
    "Lets imagine that dictionaries are a reasonable way to carry around the information contained in a network.  Try creating an edge dictionary that works with the above function."
   ]
  },
  {
   "cell_type": "code",
   "execution_count": 6,
   "metadata": {
    "collapsed": false
   },
   "outputs": [
    {
     "data": {
      "image/png": "[encoded data removed]",
      "text/plain": [
       "<IPython.core.display.Image object>"
      ]
     },
     "execution_count": 6,
     "metadata": {},
     "output_type": "execute_result"
    }
   ],
   "source": [
    "import numpy as np\n",
    "np.random.seed(42)\n",
    "edge_dict = {(\"A\",\"B\"):1,(\"B\",\"C\"):1,(\"A\",\"C\"):1,(\"A\",\"E\"):1}\n",
    "draw_network(edge_dict,\"simple.png\")\n",
    "Image(filename='simple.png')"
   ]
  },
  {
   "cell_type": "markdown",
   "metadata": {},
   "source": [
    "## Types of graphs\n",
    "\n",
    "You may have heard of a random graph or a scale free graph. Well there are many types classificaitons of graph out there.  NetworkX can create  many of them. Here is how you create a path graph.  **Can you create a figure with two panels comparing two of these graphs?** \n",
    "\n",
    "https://networkx.github.io/documentation/development/reference/generators.html"
   ]
  },
  {
   "cell_type": "code",
   "execution_count": 7,
   "metadata": {
    "collapsed": false
   },
   "outputs": [],
   "source": [
    "G=nx.path_graph(10)\n",
    "edge_dict = dict([(e, 1) for e in G.edges()])\n",
    "draw_network(edge_dict,\"path.png\",node_size=100)\n",
    "Image(filename='path.png')\n",
    "\n",
    "# small famous graphs\n",
    "petersen=nx.petersen_graph()\n",
    "tutte=nx.tutte_graph()\n",
    "maze=nx.sedgewick_maze_graph()\n",
    "tet=nx.tetrahedral_graph()\n",
    "\n",
    "# classic graphs\n",
    "K_5=nx.complete_graph(5)\n",
    "K_3_5=nx.complete_bipartite_graph(3,5)\n",
    "barbell=nx.barbell_graph(10,10)\n",
    "lollipop=nx.lollipop_graph(10,20)\n",
    "\n",
    "# random graphs\n",
    "er=nx.erdos_renyi_graph(100,0.15)\n",
    "ws=nx.watts_strogatz_graph(30,3,0.1)\n",
    "ba=nx.barabasi_albert_graph(100,5)\n",
    "red=nx.random_lobster(100,0.9,0.9)"
   ]
  },
  {
   "cell_type": "code",
   "execution_count": 19,
   "metadata": {
    "collapsed": false
   },
   "outputs": [],
   "source": [
    "#your code for tdef \n",
    "def draw2_networks(edge_dict,file_name=None,ax=None,node_size=300):\n",
    "    \"\"\"draw a simple network\"\"\"\n",
    "    \n",
    "    if not ax:\n",
    "        fig = plt.figure()\n",
    "        ax1 = fig.add_subplot(121)\n",
    "        ax2 = fig.add_subplot(122)\n",
    "        ax1.set_yticks([])\n",
    "        ax1.set_xticks([])\n",
    "        ax2.set_yticks([])\n",
    "        ax2.set_xticks([])\n",
    "\n",
    "    #G1 = nx.Graph()\n",
    "    G1=nx.tutte_graph()\n",
    "    for edge,weight in edge_dict.iteritems():\n",
    "        G1.add_edge(edge[0],edge[1],weight=weight)\n",
    "\n",
    "    pos1=nx.spring_layout(G1)\n",
    "    \n",
    "    G2=nx.lollipop_graph(10,20)\n",
    "    for edge,weight in edge_dict.items():\n",
    "        G2.add_edge(edge[0],edge[1],weight=weight)\n",
    "\n",
    "    pos2=nx.spring_layout(G2)\n",
    "\n",
    "    ## draw the nodes                                                                                                          \n",
    "    nx.draw_networkx(G1,pos1,node_size=node_size,\n",
    "                     node_color='#ADD8E6',alpha=0.9,ax=ax1)\n",
    "    nx.draw_networkx(G2,pos2,node_size=node_size,\n",
    "                     node_color='#ADD8E6',alpha=0.9,ax=ax2)\n",
    "\n",
    "    if file_name:\n",
    "        plt.savefig(file_name)"
   ]
  },
  {
   "cell_type": "code",
   "execution_count": 20,
   "metadata": {
    "collapsed": false
   },
   "outputs": [
    {
     "data": {
      "image/png": "[encoded data removed]",
      "text/plain": [
       "<IPython.core.display.Image object>"
      ]
     },
     "execution_count": 20,
     "metadata": {},
     "output_type": "execute_result"
    }
   ],
   "source": [
    "import numpy as np\n",
    "np.random.seed(42)\n",
    "edge_dict = {(\"A\",\"B\"):1,(\"B\",\"C\"):1,(\"A\",\"C\"):1,(\"A\",\"E\"):1}\n",
    "draw2_networks(edge_dict,\"compare.png\")\n",
    "Image(filename='compare.png')"
   ]
  },
  {
   "cell_type": "markdown",
   "metadata": {},
   "source": [
    "## Trees\n",
    "\n",
    "A tree is a connected acyclic graph.  What do you think is a **minimial spanning tree**?  Using the same type of two panel plot plot a graph and then its minimal spanning tree."
   ]
  },
  {
   "cell_type": "code",
   "execution_count": null,
   "metadata": {
    "collapsed": true
   },
   "outputs": [],
   "source": []
  },
  {
   "cell_type": "code",
   "execution_count": 21,
   "metadata": {
    "collapsed": true
   },
   "outputs": [],
   "source": [
    "G=nx.cycle_graph(4)\n",
    "G.add_edge(0,3,weight=2)\n",
    "T=nx.minimum_spanning_tree(G)"
   ]
  },
  {
   "cell_type": "markdown",
   "metadata": {},
   "source": [
    "## Shortest paths\n",
    "\n",
    "Use Dijkstra’s algorithm to find the shortest path in a weighted and \n",
    "unweighted network"
   ]
  },
  {
   "cell_type": "code",
   "execution_count": 24,
   "metadata": {
    "collapsed": false
   },
   "outputs": [
    {
     "ename": "SyntaxError",
     "evalue": "invalid syntax (<ipython-input-24-ec63bddb0852>, line 38)",
     "output_type": "error",
     "traceback": [
      "\u001b[0;36m  File \u001b[0;32m\"<ipython-input-24-ec63bddb0852>\"\u001b[0;36m, line \u001b[0;32m38\u001b[0m\n\u001b[0;31m    plt.savefig(\"shortest-path.png\")\u001b[0m\n\u001b[0m      ^\u001b[0m\n\u001b[0;31mSyntaxError\u001b[0m\u001b[0;31m:\u001b[0m invalid syntax\n"
     ]
    }
   ],
   "source": [
    "fig = plt.figure(figsize=(10,8))\n",
    "ax = fig.add_subplot(111)\n",
    "\n",
    "G=nx.Graph()\n",
    "\n",
    "G.add_edge('a','b',weight=0.1) \n",
    "G.add_edge('b','c',weight=1.5) \n",
    "G.add_edge('a','c',weight=1.0) \n",
    "G.add_edge('c','d',weight=2.2)\n",
    "G.add_edge('d','e',weight=1.1)\n",
    "\n",
    "#print(nx.shortest_path(G,'b','d')) # use if we are non-weighted\n",
    "dpath = nx.dijkstra_path(G,'a','e')\n",
    "dpath = [(dpath[i],dpath[i+1]) for i in range(len(dpath)) if i+1 < len(dpath)] \n",
    "\n",
    "edges_path=[(u,v) for (u,v,d) in G.edges(data=True) if (u,v) in dpath or (v,u) in dpath]\n",
    "edges_all=[(u,v) for (u,v,d) in G.edges(data=True)]\n",
    "\n",
    "\n",
    "print(erest)\n",
    "print(epath)\n",
    "pos=nx.spring_layout(G,k=1,weight='weight') # positions for all nodes\n",
    "\n",
    "# nodes\n",
    "nx.draw_networkx_nodes(G,pos,node_size=700)\n",
    "\n",
    "# edges\n",
    "nx.draw_networkx_edges(G,pos,edgelist=edges_all,\n",
    "                    width=4)\n",
    "nx.draw_networkx_edges(G,pos,edgelist=edges_path,\n",
    "                    width=10,alpha=0.5,edge_color='b') #style='dashed'\n",
    "\n",
    "# labels\n",
    "nx.draw_networkx_labels(G,pos,font_size=20,font_family='sans-serif')\n",
    "draw_networkx_edge_labels(G, pos, fontedge_labels\n",
    "\n",
    "#ax.axis('off')\n",
    "plt.savefig(\"shortest-path.png\") \n",
    "# save as png\n",
    "Image(filename='shortest-path.png')"
   ]
  },
  {
   "cell_type": "markdown",
   "metadata": {
    "collapsed": true
   },
   "source": [
    "## Play with modularity\n",
    "http://ryancompton.net/2014/06/16/community-detection-and-colored-plotting-in-networkx/\n",
    "\n",
    "You could you use similar code as shown in the shortest-path code.  To plot modularity or community structure.\n",
    "\n",
    "Other references\n",
    "  * http://perso.crans.org/aynaud/communities/api.html\n",
    "  * http://networkx.readthedocs.io/en/latest/reference/algorithms.community.html"
   ]
  },
  {
   "cell_type": "markdown",
   "metadata": {
    "collapsed": true
   },
   "source": []
  }
 ],
 "metadata": {
  "kernelspec": {
   "display_name": "Python [default]",
   "language": "python",
   "name": "python2"
  },
  "language_info": {
   "codemirror_mode": {
    "name": "ipython",
    "version": 2
   },
   "file_extension": ".py",
   "mimetype": "text/x-python",
   "name": "python",
   "nbconvert_exporter": "python",
   "pygments_lexer": "ipython2",
   "version": "2.7.13"
  }
 },
 "nbformat": 4,
 "nbformat_minor": 1
}
